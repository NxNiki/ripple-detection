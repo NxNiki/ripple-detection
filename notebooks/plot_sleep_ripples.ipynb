{
 "cells": [
  {
   "cell_type": "code",
   "execution_count": 2,
   "id": "3158117f-d0e5-46e2-bf8b-867ca91609b4",
   "metadata": {},
   "outputs": [
    {
     "name": "stdout",
     "output_type": "stream",
     "text": [
      "(1, 15876927)\n"
     ]
    }
   ],
   "source": [
    "import os\n",
    "import numpy as np\n",
    "import matplotlib.pyplot as plt\n",
    "from ripple_detection.slow_wave_ripple import get_start_end_arrays\n",
    "\n",
    "\n",
    "ripple_file = os.path.join('/Users/XinNiuAdmin/HoffmanMount/data/PIPELINE_vc/ANALYSIS/MovieParadigm/566_MovieParadigm/Experiment-8/'\n",
    "               'ripple_detection', 'RMH2.npz')\n",
    "ripple_fs = 500  # Hz\n",
    "loaded_data = np.load(ripple_file)\n",
    "ripple_array = loaded_data[\"array\"]\n",
    "print(ripple_array.shape)\n",
    "\n",
    "\n"
   ]
  },
  {
   "cell_type": "code",
   "execution_count": 5,
   "id": "6b33dc1e-e4f2-462a-a4de-b93e92398dd4",
   "metadata": {},
   "outputs": [
    {
     "data": {
      "text/plain": [
       "np.float64(186023.0)"
      ]
     },
     "execution_count": 5,
     "metadata": {},
     "output_type": "execute_result"
    }
   ],
   "source": [
    "np.sum(ripple_array)"
   ]
  },
  {
   "cell_type": "code",
   "execution_count": 4,
   "id": "8d7cbfad-3133-4f01-b60b-e4e6becb06aa",
   "metadata": {},
   "outputs": [
    {
     "data": {
      "image/png": "[encoded data removed]",
      "text/plain": [
       "<Figure size 2000x200 with 1 Axes>"
      ]
     },
     "metadata": {},
     "output_type": "display_data"
    }
   ],
   "source": [
    "\n",
    "\n",
    "start_array, end_array = get_start_end_arrays(ripple_array) \n",
    "\n",
    "# plot raster\n",
    "plt.subplots(1,1,figsize=(20,2))   \n",
    "plt.scatter(np.where(start_array)[1], np.where(start_array)[0], s=1, color='k') # SWR time v. trial\n",
    "plt.xlabel('Time from recall (s)')\n",
    "plt.ylabel('Channel')\n",
    "ax = plt.gca()"
   ]
  },
  {
   "cell_type": "code",
   "execution_count": 8,
   "id": "7a10b128-8b64-4527-ae04-1b4109d46d93",
   "metadata": {},
   "outputs": [
    {
     "data": {
      "text/plain": [
       "(array([0, 0, 0, ..., 0, 0, 0]),\n",
       " array([     548,     1486,     1701, ..., 15868858, 15870453, 15872866]))"
      ]
     },
     "execution_count": 8,
     "metadata": {},
     "output_type": "execute_result"
    }
   ],
   "source": [
    "np.where(start_array)"
   ]
  },
  {
   "cell_type": "code",
   "execution_count": null,
   "id": "5666e8e3-7af5-46bf-9cb1-c3d737422a42",
   "metadata": {},
   "outputs": [],
   "source": []
  }
 ],
 "metadata": {
  "kernelspec": {
   "display_name": "Python 3 (ipykernel)",
   "language": "python",
   "name": "python3"
  },
  "language_info": {
   "codemirror_mode": {
    "name": "ipython",
    "version": 3
   },
   "file_extension": ".py",
   "mimetype": "text/x-python",
   "name": "python",
   "nbconvert_exporter": "python",
   "pygments_lexer": "ipython3",
   "version": "3.10.16"
  }
 },
 "nbformat": 4,
 "nbformat_minor": 5
}
