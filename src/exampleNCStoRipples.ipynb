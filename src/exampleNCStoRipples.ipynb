{
 "cells": [
  {
   "cell_type": "markdown",
   "metadata": {},
   "source": [
    "# Detecting ripples from Neuralynx NSC files\n",
    "\n",
    "try to reproduce results without using ptsa filters..."
   ]
  },
  {
   "cell_type": "markdown",
   "metadata": {
    "tags": []
   },
   "source": [
    "## Import Packages"
   ]
  },
  {
   "cell_type": "code",
   "execution_count": 1,
   "metadata": {
    "tags": []
   },
   "outputs": [],
   "source": [
    "%load_ext autoreload\n",
    "%autoreload 2\n",
    "\n",
    "import pandas as pd; \n",
    "import numpy as np\n",
    "import sys\n",
    "import os\n",
    "import warnings \n",
    "import matplotlib.pyplot as plt\n",
    "from copy import copy\n",
    "from scipy import stats\n",
    "from scipy.stats import zscore\n",
    "import pickle\n",
    "\n",
    "from scipy import stats,signal,io\n",
    "import time\n",
    "import mat73\n",
    "import mne\n",
    "from scipy.signal import firwin, filtfilt, kaiserord\n",
    "from ripple_detection.general import superVstack\n",
    "from ripple_detection.slow_wave_ripple import (\n",
    "    detect_ripples_hamming, detect_ripples_butter, detect_ripples_staresina, \n",
    "    downsample_binary, get_start_end_arrays\n",
    ")\n",
    "from ripple_detection.neuralynx_io import load_ncs\n",
    "from ripple_detection.filters import butter_filter\n",
    "from ripple_detection.utils import create_mne_raw, create_mne_epoch_array\n",
    "\n",
    "warnings.filterwarnings(\"ignore\") # neuralynx_io gives annoying warnings but seems to work fine\n",
    "\n",
    "%matplotlib inline  \n",
    "plt.rcParams['pdf.fonttype'] = 42; plt.rcParams['ps.fonttype'] = 42 # fix fonts for Illustrator\n",
    "pd.set_option('display.max_columns', 30); pd.set_option('display.max_rows', 100)\n"
   ]
  },
  {
   "cell_type": "markdown",
   "metadata": {
    "tags": []
   },
   "source": [
    "## Ripple Detection"
   ]
  },
  {
   "cell_type": "markdown",
   "metadata": {},
   "source": [
    "Firstly, generate macro data using the files in the subject directory."
   ]
  },
  {
   "cell_type": "code",
   "execution_count": 2,
   "metadata": {
    "tags": []
   },
   "outputs": [
    {
     "name": "stdout",
     "output_type": "stream",
     "text": [
      "data shape: (2, 14400512)\n",
      "sampling rate: 2000\n",
      "duration: 7200.256 seconds\n"
     ]
    }
   ],
   "source": [
    "warnings.filterwarnings(\"ignore\", message=\"Unable to parse\")\n",
    "path = '../test/data/'\n",
    "\n",
    "# each pair will be subtracted for bipolar referencing\n",
    "fns = [\n",
    "    ['LAH1.ncs','LAH2.ncs'],\n",
    "    ['LA1.ncs','LA2.ncs'],\n",
    "]\n",
    "\n",
    "macro_data = []\n",
    "for fn in fns:\n",
    "    macro_ncs1 = load_ncs(os.path.join(path, fn[0]))\n",
    "    macro_ncs2 = load_ncs(os.path.join(path, fn[1]))\n",
    "    macro_data = superVstack(macro_data, macro_ncs1['data']-macro_ncs2['data'])\n",
    "\n",
    "sr = int(macro_ncs1['header']['SamplingFrequency']) # 2000 for NLX macro\n",
    "\n",
    "print(f'data shape: {np.shape(macro_data)}')\n",
    "print(f'sampling rate: {sr}')\n",
    "print(f'duration: {np.shape(macro_data)[1]/sr} seconds')"
   ]
  },
  {
   "cell_type": "markdown",
   "metadata": {},
   "source": [
    "Initialize some key variables"
   ]
  },
  {
   "cell_type": "code",
   "execution_count": 3,
   "metadata": {},
   "outputs": [],
   "source": [
    "save_values = 0\n",
    "recall_type_switch = 0\n",
    "remove_soz_ictal = 0 # 0 for nothing, 1 for remove SOZ, 2 for keep ONLY SOZ ###\n",
    "\n",
    "filter_type = 'hamming' \n",
    "# filter_type = 'butter' \n",
    "\n",
    "desired_sample_rate = 500. # in Hz. This seems like lowerst common denominator recording freq.\n",
    "eeg_buffer = 300 # buffer to add to either end of IRI when processing eeg"
   ]
  },
  {
   "cell_type": "markdown",
   "metadata": {},
   "source": [
    "Next, preprocess and filter the macro data"
   ]
  },
  {
   "cell_type": "code",
   "execution_count": 4,
   "metadata": {},
   "outputs": [
    {
     "name": "stdout",
     "output_type": "stream",
     "text": [
      "time_length: 0.001\n"
     ]
    }
   ],
   "source": [
    "\n",
    "# add event dimension to convert to MNE raw array:\n",
    "macro_data = np.expand_dims(macro_data, axis=0)\n",
    "\n",
    "# power line removal...don't do 120 for now (I never see any line noise there for whatever reason)\n",
    "macro_data = butter_filter(macro_data, freq_range=[58.,62.], sample_rate = sr, filter_type='stop', order=4)\n",
    "macro_data = butter_filter(macro_data, freq_range=[178.,182.], sample_rate = sr, filter_type='stop', order=4)\n",
    "\n",
    "trans_width = 5. # Width of transition region, normalized so that 1 corresponds to pi radians/sample. \n",
    "# That is, the frequency is expressed as a fraction of the Nyquist frequency.\n",
    "ntaps = (2/3)*np.log10(1/(10*(1e-3*1e-4)))*(sr/trans_width) # gives 400 with sr=500, trans=5\n",
    "nyquist = sr/2  \n",
    "\n",
    "ch_names = [x[0].replace('.ncs','') for x in fns]\n",
    "ch_types = ['seeg'] * len(ch_names)\n",
    "\n",
    "# filter for ripples using filter selected above\n",
    "if filter_type == 'hamming':\n",
    "    # need to subtract out to get the filtered signal since default is bandstop but want to keep it as PTSA  \n",
    "    FIR_bandstop = firwin(int(ntaps+1), [70.,178.], fs=sr, window='hamming', pass_zero='bandstop')                        \n",
    "    eeg_rip_band = macro_data-filtfilt(FIR_bandstop,1.,macro_data) \n",
    "    bandstop_25_60 = firwin(int(ntaps+1), [20.,58.], fs=sr, window='hamming', pass_zero='bandstop') # Norman 2019 IED            \n",
    "    eeg_ied_band = macro_data-filtfilt(bandstop_25_60, 1., macro_data)\n",
    "    ntaps40, beta40 = kaiserord(40, trans_width/nyquist)\n",
    "    kaiser_40lp_filter = firwin(ntaps40, cutoff=40, window=('kaiser', beta40), scale=False, fs=sr, pass_zero='lowpass')            \n",
    "elif filter_type == 'butter':\n",
    "    eeg_rip_band = butter_filter(macro_data, freq_range=[80.,120.], sample_rate = sr, filter_type='bandpass', order=2)\n",
    "    eeg_ied_band = butter_filter(macro_data, freq_range=[250.,490.], sample_rate = sr, filter_type='bandpass', order=2)\n",
    "    time_length = np.shape(eeg_rip_band)[1]/int(sr)\n",
    "    eeg_raw = create_mne_epoch_array(macro_data, ch_names, ch_types, sr)\n",
    "elif filter_type == 'staresina':\n",
    "    FIR_bandstop_star = firwin(241, [80.,100.], fs=sr, window='hamming', pass_zero='bandstop') # order = 3*80+1               \n",
    "    eeg_rip_band = eeg_ptsa-filtfilt(FIR_bandstop_star, 1., eeg_ptsa)\n",
    "\n",
    "if filter_type is not 'staresina':\n",
    "    time_length = np.shape(eeg_rip_band)[1]/int(sr)\n",
    "    eeg_rip_band = create_mne_epoch_array(eeg_rip_band, ch_names, ch_types, sr)\n",
    "    _ = eeg_rip_band.apply_hilbert(envelope=True)\n",
    "    eeg_ied_band = create_mne_epoch_array(eeg_ied_band, ch_names, ch_types, sr)\n",
    "    _ = eeg_ied_band.apply_hilbert(envelope=True)\n",
    "\n",
    "print(f'time_length: {time_length}')"
   ]
  },
  {
   "cell_type": "markdown",
   "metadata": {},
   "source": [
    "Finally, construct the ripple array. This will contain the exact times of the ripple onsets as boolean values of 1"
   ]
  },
  {
   "cell_type": "code",
   "execution_count": 5,
   "metadata": {},
   "outputs": [
    {
     "name": "stdout",
     "output_type": "stream",
     "text": [
      "Channel #0 of 2\n",
      "skipped b/c 1473000.0 ABOVE ripple rate thresh 1.5 for channel: 0\n",
      "Channel #1 of 2\n",
      "skipped b/c 1734000.0 ABOVE ripple rate thresh 1.5 for channel: 1\n"
     ]
    }
   ],
   "source": [
    "ripple_array = []\n",
    "HFA_array = []\n",
    "\n",
    "trial_by_trial_correlation = []\n",
    "elec_by_elec_correlation = []\n",
    "elec_ripple_rate_array = []\n",
    "session_ripple_rate_by_elec = []\n",
    "\n",
    "total_channel_ct = 0\n",
    "min_ripple_rate = 0.1 # Hz. # 0.1 for hamming\n",
    "# max_ripple_rate = 1.5 # Hz. # 1.5 for hamming\n",
    "max_ripple_rate = 1.5 # Hz. # 1.5 for hamming\n",
    "\n",
    "max_trial_by_trial_correlation = 0.05 # if ripples correlated more than this remove them # 0.05 for hamming\n",
    "max_electrode_by_electrode_correlation = 0.2 #??? # 0.2 for hamming\n",
    "\n",
    "for channel in range(np.shape(eeg_rip_band.get_data())[1]): # unpack number of channels\n",
    "    print(f'Channel #{channel} of {np.shape(eeg_rip_band.get_data())[1]}')\n",
    "    total_channel_ct+=1 # total channels before artifact removal\n",
    "    \n",
    "    # get data from MNE container \n",
    "    eeg_rip = eeg_rip_band.get_data()[:, channel, :]\n",
    "    eeg_ied = eeg_ied_band.get_data()[:, channel, :]\n",
    "\n",
    "    # select detection algorithm (note that iedlogic is same for both so always run that)\n",
    "    if filter_type == 'hamming':\n",
    "        # filter IEDs \n",
    "        eeg_ied = eeg_ied**2 # already rectified now square\n",
    "        eeg_ied = filtfilt(kaiser_40lp_filter, 1., eeg_ied) # low pass filter  \n",
    "        mean1 = np.mean(eeg_ied)\n",
    "        std1 = np.std(eeg_ied)\n",
    "        iedlogic = eeg_ied>=mean1+4*std1 # Norman et al 2019            \n",
    "        # detect ripples\n",
    "        ripplelogic = detect_ripples_hamming(eeg_rip, trans_width, sr, iedlogic)\n",
    "    elif filter_type == 'butter':\n",
    "        eeg_mne = eeg_raw.get_data()[:, channel, :]\n",
    "        # detect ripples\n",
    "        ripplelogic, iedlogic = detect_ripples_butter(eeg_rip, eeg_ied, eeg_mne, sr)    \n",
    "    elif filter_type == 'staresina':\n",
    "        ripplelogic = detect_ripples_staresina(eeg_rip, sr)\n",
    "\n",
    "    if filter_type == 'butter':\n",
    "        desired_sample_rate = 1000 # for Vaz algo\n",
    "\n",
    "    if sr>desired_sample_rate: # downsampling here for anything greater than 500 (hamming) or 1000 (butter)\n",
    "        ripplelogic = downsample_binary(ripplelogic, sr/desired_sample_rate)\n",
    "        \n",
    "    # ripples are detected, so can remove buffers now #\n",
    "    # if ripplelogic is just 1d (because it only has 1 \"trial\") it bugs out programs below\n",
    "    if len(ripplelogic.shape) == 1: # if just detecting within a single vector\n",
    "        ripplelogic = np.expand_dims(ripplelogic, axis=0)\n",
    "\n",
    "    # skip this electrode if the ripple rate is below threshold\n",
    "    temp_start_array,_ = get_start_end_arrays(ripplelogic)\n",
    "    elec_ripple_rate = np.sum(temp_start_array)/temp_start_array.shape[0]/time_length\n",
    "    # elec_ripple_rate = np.sum(temp_start_array)/temp_start_array.shape[0]/(time_length/1000)\n",
    "    \n",
    "    if elec_ripple_rate < min_ripple_rate:\n",
    "        print(f'skipped b/c {elec_ripple_rate} below ripple rate thresh {min_ripple_rate} for channel: {channel}')\n",
    "        continue\n",
    "    elif elec_ripple_rate > max_ripple_rate:\n",
    "        print(f'skipped b/c {elec_ripple_rate} ABOVE ripple rate thresh {max_ripple_rate} for channel: {channel}')\n",
    "        continue \n",
    "\n",
    "    # check the ripples for this electrode and make sure they're not super correlated across trials\n",
    "    # first, bin the array so can get more realistic correlation not dependent on ms timing\n",
    "    binned_ripplelogic = downsample_binary(ripplelogic[:, :ripplelogic.size - ripplelogic.size%10], 10) # downsample by 10x so 10 ms bins\n",
    "    trial_ripple_df = pd.DataFrame(data=np.transpose(binned_ripplelogic))\n",
    "    num_cols = len(list(trial_ripple_df))\n",
    "    temp_tbt_corr = 0\n",
    "    if num_cols > 1: # if more than 1 trial\n",
    "        trial_ripple_df.columns = ['col_' + str(i) for i in range(num_cols)] # generate range of ints for suffixes\n",
    "        if sum(sum(trial_ripple_df))>1:\n",
    "            temp_tbt_corr = np.mean(pg.pairwise_corr(trial_ripple_df,method='spearman').r)\n",
    "        else:\n",
    "            temp_tbt_corr = 1    \n",
    "        if temp_tbt_corr > max_trial_by_trial_correlation:\n",
    "            print('skipped b/c above trial-by-trial correlation for ch.: '+str(channel))\n",
    "            continue\n",
    "\n",
    "    ## if this electrode passes SAVE data ##\n",
    "    trial_by_trial_correlation.append(temp_tbt_corr) # corr b/w trials\n",
    "    elec_ripple_rate_array.append(elec_ripple_rate) # record the average ripple rate for this electrode\n",
    "\n",
    "    # append arrays across electrodes\n",
    "    ripple_array = superVstack(ripple_array, ripplelogic) # append across electrodes"
   ]
  },
  {
   "cell_type": "markdown",
   "metadata": {},
   "source": [
    "Get start times for ripples"
   ]
  },
  {
   "cell_type": "code",
   "execution_count": 6,
   "metadata": {},
   "outputs": [
    {
     "data": {
      "text/plain": [
       "np.float64(1734000000.0)"
      ]
     },
     "execution_count": 6,
     "metadata": {},
     "output_type": "execute_result"
    }
   ],
   "source": [
    "temp_start_array.shape\n",
    "elec_ripple_rate\n",
    "np.sum(temp_start_array)/temp_start_array.shape[0]/(time_length/1000)"
   ]
  },
  {
   "cell_type": "code",
   "execution_count": 8,
   "metadata": {},
   "outputs": [
    {
     "ename": "AttributeError",
     "evalue": "'list' object has no attribute 'shape'",
     "output_type": "error",
     "traceback": [
      "\u001b[0;31m---------------------------------------------------------------------------\u001b[0m",
      "\u001b[0;31mAttributeError\u001b[0m                            Traceback (most recent call last)",
      "Cell \u001b[0;32mIn[8], line 1\u001b[0m\n\u001b[0;32m----> 1\u001b[0m start_array, end_array \u001b[38;5;241m=\u001b[39m \u001b[43mget_start_end_arrays\u001b[49m\u001b[43m(\u001b[49m\u001b[43mripple_array\u001b[49m\u001b[43m)\u001b[49m \u001b[38;5;66;03m# get start array\u001b[39;00m\n\u001b[1;32m      3\u001b[0m \u001b[38;5;28mprint\u001b[39m(\u001b[38;5;124m'\u001b[39m\u001b[38;5;124mGot start_array with \u001b[39m\u001b[38;5;124m'\u001b[39m \u001b[38;5;241m+\u001b[39m \u001b[38;5;28mstr\u001b[39m(start_array\u001b[38;5;241m.\u001b[39mshape[\u001b[38;5;241m0\u001b[39m]) \u001b[38;5;241m+\u001b[39m \u001b[38;5;124m'\u001b[39m\u001b[38;5;124m trials!\u001b[39m\u001b[38;5;124m'\u001b[39m)\n",
      "File \u001b[0;32m~/Documents/ripple-detection/src/ripple_detection/slow_wave_ripple.py:431\u001b[0m, in \u001b[0;36mget_start_end_arrays\u001b[0;34m(ripple_array)\u001b[0m\n\u001b[1;32m    430\u001b[0m \u001b[38;5;28;01mdef\u001b[39;00m\u001b[38;5;250m \u001b[39m\u001b[38;5;21mget_start_end_arrays\u001b[39m(ripple_array):\n\u001b[0;32m--> 431\u001b[0m     start_array \u001b[38;5;241m=\u001b[39m np\u001b[38;5;241m.\u001b[39mzeros((\u001b[43mripple_array\u001b[49m\u001b[38;5;241;43m.\u001b[39;49m\u001b[43mshape\u001b[49m), dtype\u001b[38;5;241m=\u001b[39m\u001b[38;5;124m'\u001b[39m\u001b[38;5;124muint8\u001b[39m\u001b[38;5;124m'\u001b[39m)\n\u001b[1;32m    432\u001b[0m     end_array \u001b[38;5;241m=\u001b[39m np\u001b[38;5;241m.\u001b[39mzeros((ripple_array\u001b[38;5;241m.\u001b[39mshape), dtype\u001b[38;5;241m=\u001b[39m\u001b[38;5;124m'\u001b[39m\u001b[38;5;124muint8\u001b[39m\u001b[38;5;124m'\u001b[39m)\n\u001b[1;32m    434\u001b[0m     num_trials \u001b[38;5;241m=\u001b[39m ripple_array\u001b[38;5;241m.\u001b[39mshape[\u001b[38;5;241m0\u001b[39m]\n",
      "\u001b[0;31mAttributeError\u001b[0m: 'list' object has no attribute 'shape'"
     ]
    }
   ],
   "source": [
    "start_array, end_array = get_start_end_arrays(ripple_array) # get start array\n",
    "\n",
    "print('Got start_array with ' + str(start_array.shape[0]) + ' trials!')"
   ]
  },
  {
   "cell_type": "code",
   "execution_count": null,
   "metadata": {},
   "outputs": [],
   "source": [
    "np.shape(start_array)\n",
    "np.sum(start_array,1)\n",
    "print(np.sum(start_array,1)[0]/(np.shape(start_array)[1]/desired_sample_rate)) # 500 Hz sampling\n",
    "np.sum(start_array,1)[1]/(np.shape(start_array)[1]/desired_sample_rate)"
   ]
  },
  {
   "cell_type": "code",
   "execution_count": null,
   "metadata": {},
   "outputs": [],
   "source": [
    "# plot raster\n",
    "plt.subplots(1,1,figsize=(20,2))   \n",
    "plt.scatter(np.where(start_array)[1]/1000, np.where(start_array)[0], s=4, color='k') # SWR time v. trial\n",
    "plt.xlabel('Time from recall (s)')\n",
    "plt.ylabel('Channel')\n",
    "ax = plt.gca()"
   ]
  },
  {
   "cell_type": "code",
   "execution_count": null,
   "metadata": {},
   "outputs": [],
   "source": []
  }
 ],
 "metadata": {
  "kernelspec": {
   "display_name": "Python 3 (ipykernel)",
   "language": "python",
   "name": "python3"
  },
  "language_info": {
   "codemirror_mode": {
    "name": "ipython",
    "version": 3
   },
   "file_extension": ".py",
   "mimetype": "text/x-python",
   "name": "python",
   "nbconvert_exporter": "python",
   "pygments_lexer": "ipython3",
   "version": "3.10.16"
  },
  "toc-autonumbering": false,
  "toc-showcode": false,
  "toc-showmarkdowntxt": false,
  "toc-showtags": false
 },
 "nbformat": 4,
 "nbformat_minor": 4
}
